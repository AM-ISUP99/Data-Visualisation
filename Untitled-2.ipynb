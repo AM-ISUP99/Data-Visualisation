{
 "cells": [
  {
   "cell_type": "code",
   "execution_count": null,
   "id": "b7f0d594",
   "metadata": {
    "scrolled": true
   },
   "outputs": [],
   "source": [
    "df = pd.read_csv('data/mon_fichier.csv')"
   ]
  },
  {
   "cell_type": "code",
   "execution_count": 1,
   "id": "86a54568",
   "metadata": {},
   "outputs": [
    {
     "name": "stderr",
     "output_type": "stream",
     "text": [
      "/var/folders/2d/0htj3hdx5936hcbtkhls8bfw0000gn/T/ipykernel_10737/4196737548.py:11: FutureWarning: The geopandas.dataset module is deprecated and will be removed in GeoPandas 1.0. You can get the original 'naturalearth_lowres' data from https://www.naturalearthdata.com/downloads/110m-cultural-vectors/.\n",
      "  world = gpd.read_file(gpd.datasets.get_path('naturalearth_lowres'))\n"
     ]
    },
    {
     "name": "stdout",
     "output_type": "stream",
     "text": [
      "Types de données avant conversion :\n",
      "pop_est                         float64\n",
      "continent                        object\n",
      "name                             object\n",
      "iso_a3                           object\n",
      "gdp_md_est                        int64\n",
      "geometry                       geometry\n",
      "Country                          object\n",
      "Region                           object\n",
      "Year                            float64\n",
      "Infant_deaths                   float64\n",
      "Under_five_deaths               float64\n",
      "Adult_mortality                 float64\n",
      "Alcohol_consumption             float64\n",
      "Hepatitis_B                     float64\n",
      "Measles                         float64\n",
      "BMI                             float64\n",
      "Polio                           float64\n",
      "Diphtheria                      float64\n",
      "Incidents_HIV                   float64\n",
      "GDP_per_capita                  float64\n",
      "Population_mln                  float64\n",
      "Thinness_ten_nineteen_years     float64\n",
      "Thinness_five_nine_years        float64\n",
      "Schooling                       float64\n",
      "Economy_status_Developed        float64\n",
      "Economy_status_Developing       float64\n",
      "Life_expectancy                 float64\n",
      "dtype: object\n",
      "User Guide: https://docs.kepler.gl/docs/keplergl-jupyter\n"
     ]
    },
    {
     "name": "stderr",
     "output_type": "stream",
     "text": [
      "/opt/anaconda3/lib/python3.9/site-packages/jupyter_client/session.py:718: UserWarning: Message serialization failed with:\n",
      "Out of range float values are not JSON compliant\n",
      "Supporting this message is deprecated in jupyter-client 7, please make sure your message is JSON-compliant\n",
      "  content = self.pack(content)\n"
     ]
    },
    {
     "data": {
      "application/vnd.jupyter.widget-view+json": {
       "model_id": "54e6741eb6484948b56bc471ec417a1e",
       "version_major": 2,
       "version_minor": 0
      },
      "text/plain": [
       "KeplerGl(config={'version': 'v1', 'config': {'visState': {'filters': [], 'layers': [{'id': 'gsk43pu', 'type': …"
      ]
     },
     "metadata": {},
     "output_type": "display_data"
    }
   ],
   "source": [
    "# Imports\n",
    "from keplergl import KeplerGl\n",
    "import geopandas as gpd\n",
    "import pandas as pd\n",
    "import json\n",
    "\n",
    "# Charger les données\n",
    "df = pd.read_csv('data/mon_fichier.csv')\n",
    "\n",
    "# Charger les données géographiques des pays\n",
    "world = gpd.read_file(gpd.datasets.get_path('naturalearth_lowres'))\n",
    "\n",
    "# Définir le dictionnaire de mapping\n",
    "country_name_mapping = {\n",
    "    'United States of America': 'United States',\n",
    "    'Dominican Rep.': 'Dominican Republic',\n",
    "    'Central African Rep.': 'Central African Republic',\n",
    "    'Dem. Rep. Congo': 'Democratic Republic of the Congo',\n",
    "    'Congo': 'Republic of Congo',\n",
    "    'S. Sudan': 'South Sudan',\n",
    "    'Solomon Is.': 'Solomon Islands',\n",
    "    'Eq. Guinea': 'Equatorial Guinea',\n",
    "    'Guinea-Bissau': 'Guinea Bissau',\n",
    "    'Bosnia and Herz.': 'Bosnia and Herzegovina',\n",
    "    'Czech Rep.': 'Czech Republic',\n",
    "    'Macedonia': 'North Macedonia',\n",
    "    'Slovakia': 'Slovak Republic',\n",
    "    'Brunei': 'Brunei Darussalam',\n",
    "    'Timor-Leste': 'East Timor',\n",
    "    'Lao PDR': 'Laos',\n",
    "    'Vietnam': 'Viet Nam'\n",
    "}\n",
    "\n",
    "# Appliquer le mapping\n",
    "world['name'] = world['name'].replace(country_name_mapping)\n",
    "\n",
    "# Obtenir les dernières données\n",
    "df_latest = df[df['Year'] == df['Year'].max()]\n",
    "\n",
    "# Créer le GeoDataFrame\n",
    "geo_df = gpd.GeoDataFrame(\n",
    "    world.merge(df_latest, how='left', left_on=['name'], right_on=['Country']),\n",
    "    geometry='geometry'\n",
    ")\n",
    "\n",
    "# Afficher tous les types de colonnes avant conversion\n",
    "print(\"Types de données avant conversion :\")\n",
    "print(geo_df.dtypes)\n",
    "\n",
    "# Liste complète des colonnes qui devraient être numériques\n",
    "numeric_columns = [\n",
    "    'Life_expectancy', 'Adult_mortality', 'Infant_deaths', \n",
    "    'Alcohol_consumption', 'Hepatitis_B', 'Measles',\n",
    "    'BMI', 'Under_five_deaths', 'Polio', 'GDP_per_capita',\n",
    "    'Population_mln', 'Thinness_ten_nineteen_years',\n",
    "    'Thinness_five_nine_years', 'Diphtheria',\n",
    "    'Incidents_HIV', 'Schooling'\n",
    "]\n",
    "\n",
    "# Convertir toutes les colonnes en numérique\n",
    "for col in numeric_columns:\n",
    "    if col in geo_df.columns:\n",
    "        geo_df[col] = pd.to_numeric(geo_df[col], errors='coerce')\n",
    "\n",
    "# Remplir les valeurs manquantes\n",
    "for col in numeric_columns:\n",
    "    if col in geo_df.columns:\n",
    "        geo_df[col].fillna(df_latest[col].mean(), inplace=True)\n",
    "\n",
    "# Créer et afficher la carte\n",
    "config = {'version': 'v1', 'config': {'visState': {'filters': [], 'layers': [{'id': 'gsk43pu', 'type': 'geojson', 'config': {'dataId': 'data_1', 'label': 'Espérance de vie', 'color': [241, 92, 23], 'highlightColor': [252, 242, 26, 255], 'columns': {'geojson': 'geometry'}, 'isVisible': True, 'visConfig': {'opacity': 0.8, 'strokeOpacity': 0.8, 'thickness': 0.5, 'strokeColor': [136, 87, 44], 'colorRange': {'name': 'ColorBrewer RdYlGn-6', 'type': 'diverging', 'category': 'ColorBrewer', 'colors': ['#d73027', '#fc8d59', '#fee08b', '#d9ef8b', '#91cf60', '#1a9850']}, 'strokeColorRange': {'name': 'Global Warming', 'type': 'sequential', 'category': 'Uber', 'colors': ['#5A1846', '#900C3F', '#C70039', '#E3611C', '#F1920E', '#FFC300']}, 'radius': 10, 'sizeRange': [0, 10], 'radiusRange': [0, 50], 'heightRange': [0, 500], 'elevationScale': 5, 'enableElevationZoomFactor': True, 'stroked': True, 'filled': True, 'enable3d': False, 'wireframe': False}, 'hidden': False, 'textLabel': [{'field': None, 'color': [255, 255, 255], 'size': 18, 'offset': [0, 0], 'anchor': 'start', 'alignment': 'center'}]}, 'visualChannels': {'colorField': {'name': 'Life_expectancy', 'type': 'real'}, 'colorScale': 'quantize', 'strokeColorField': None, 'strokeColorScale': 'quantile', 'sizeField': None, 'sizeScale': 'linear', 'heightField': None, 'heightScale': 'linear', 'radiusField': None, 'radiusScale': 'linear'}}, {'id': 'xvagl3n', 'type': 'geojson', 'config': {'dataId': 'data_1', 'label': 'Mortalité infantile ', 'color': [241, 92, 23], 'highlightColor': [252, 242, 26, 255], 'columns': {'geojson': 'geometry'}, 'isVisible': False, 'visConfig': {'opacity': 0.8, 'strokeOpacity': 0.8, 'thickness': 0.5, 'strokeColor': [136, 87, 44], 'colorRange': {'name': 'Uber Viz Diverging 1.5', 'type': 'diverging', 'category': 'Uber', 'colors': ['#00939C', '#5DBABF', '#BAE1E2', '#F8C0AA', '#DD7755', '#C22E00']}, 'strokeColorRange': {'name': 'Global Warming', 'type': 'sequential', 'category': 'Uber', 'colors': ['#5A1846', '#900C3F', '#C70039', '#E3611C', '#F1920E', '#FFC300']}, 'radius': 10, 'sizeRange': [0, 10], 'radiusRange': [0, 50], 'heightRange': [0, 500], 'elevationScale': 5, 'enableElevationZoomFactor': True, 'stroked': True, 'filled': True, 'enable3d': False, 'wireframe': False}, 'hidden': False, 'textLabel': [{'field': None, 'color': [255, 255, 255], 'size': 18, 'offset': [0, 0], 'anchor': 'start', 'alignment': 'center'}]}, 'visualChannels': {'colorField': {'name': 'Infant_deaths', 'type': 'real'}, 'colorScale': 'quantize', 'strokeColorField': None, 'strokeColorScale': 'quantile', 'sizeField': None, 'sizeScale': 'linear', 'heightField': None, 'heightScale': 'linear', 'radiusField': None, 'radiusScale': 'linear'}}, {'id': 'nn7tyc', 'type': 'geojson', 'config': {'dataId': 'data_1', 'label': 'Mortalité adulte', 'color': [241, 92, 23], 'highlightColor': [252, 242, 26, 255], 'columns': {'geojson': 'geometry'}, 'isVisible': False, 'visConfig': {'opacity': 0.8, 'strokeOpacity': 0.8, 'thickness': 0.5, 'strokeColor': [136, 87, 44], 'colorRange': {'name': 'Uber Viz Diverging 1.5', 'type': 'diverging', 'category': 'Uber', 'colors': ['#00939C', '#5DBABF', '#BAE1E2', '#F8C0AA', '#DD7755', '#C22E00']}, 'strokeColorRange': {'name': 'Global Warming', 'type': 'sequential', 'category': 'Uber', 'colors': ['#5A1846', '#900C3F', '#C70039', '#E3611C', '#F1920E', '#FFC300']}, 'radius': 10, 'sizeRange': [0, 10], 'radiusRange': [0, 50], 'heightRange': [0, 500], 'elevationScale': 5, 'enableElevationZoomFactor': True, 'stroked': True, 'filled': True, 'enable3d': False, 'wireframe': False}, 'hidden': False, 'textLabel': [{'field': None, 'color': [255, 255, 255], 'size': 18, 'offset': [0, 0], 'anchor': 'start', 'alignment': 'center'}]}, 'visualChannels': {'colorField': {'name': 'Adult_mortality', 'type': 'real'}, 'colorScale': 'quantize', 'strokeColorField': None, 'strokeColorScale': 'quantile', 'sizeField': None, 'sizeScale': 'linear', 'heightField': None, 'heightScale': 'linear', 'radiusField': None, 'radiusScale': 'linear'}}, {'id': '8kg1roa', 'type': 'geojson', 'config': {'dataId': 'data_1', 'label': 'BMI', 'color': [241, 92, 23], 'highlightColor': [252, 242, 26, 255], 'columns': {'geojson': 'geometry'}, 'isVisible': False, 'visConfig': {'opacity': 0.8, 'strokeOpacity': 0.8, 'thickness': 0.5, 'strokeColor': [136, 87, 44], 'colorRange': {'name': 'ColorBrewer YlGn-6', 'type': 'sequential', 'category': 'ColorBrewer', 'colors': ['#ffffcc', '#d9f0a3', '#addd8e', '#78c679', '#31a354', '#006837']}, 'strokeColorRange': {'name': 'Global Warming', 'type': 'sequential', 'category': 'Uber', 'colors': ['#5A1846', '#900C3F', '#C70039', '#E3611C', '#F1920E', '#FFC300']}, 'radius': 10, 'sizeRange': [0, 10], 'radiusRange': [0, 50], 'heightRange': [0, 500], 'elevationScale': 5, 'enableElevationZoomFactor': True, 'stroked': True, 'filled': True, 'enable3d': False, 'wireframe': False}, 'hidden': False, 'textLabel': [{'field': None, 'color': [255, 255, 255], 'size': 18, 'offset': [0, 0], 'anchor': 'start', 'alignment': 'center'}]}, 'visualChannels': {'colorField': {'name': 'BMI', 'type': 'real'}, 'colorScale': 'quantize', 'strokeColorField': None, 'strokeColorScale': 'quantile', 'sizeField': None, 'sizeScale': 'linear', 'heightField': None, 'heightScale': 'linear', 'radiusField': None, 'radiusScale': 'linear'}}, {'id': 'k7upy2t', 'type': 'geojson', 'config': {'dataId': 'data_1', 'label': 'GDP per capita', 'color': [241, 92, 23], 'highlightColor': [252, 242, 26, 255], 'columns': {'geojson': 'geometry'}, 'isVisible': False, 'visConfig': {'opacity': 0.8, 'strokeOpacity': 0.8, 'thickness': 0.5, 'strokeColor': [136, 87, 44], 'colorRange': {'name': 'ColorBrewer RdBu-6', 'type': 'diverging', 'category': 'ColorBrewer', 'colors': ['#b2182b', '#ef8a62', '#fddbc7', '#d1e5f0', '#67a9cf', '#2166ac']}, 'strokeColorRange': {'name': 'Global Warming', 'type': 'sequential', 'category': 'Uber', 'colors': ['#5A1846', '#900C3F', '#C70039', '#E3611C', '#F1920E', '#FFC300']}, 'radius': 10, 'sizeRange': [0, 10], 'radiusRange': [0, 50], 'heightRange': [0, 500], 'elevationScale': 5, 'enableElevationZoomFactor': True, 'stroked': True, 'filled': True, 'enable3d': False, 'wireframe': False}, 'hidden': False, 'textLabel': [{'field': None, 'color': [255, 255, 255], 'size': 18, 'offset': [0, 0], 'anchor': 'start', 'alignment': 'center'}]}, 'visualChannels': {'colorField': {'name': 'GDP_per_capita', 'type': 'real'}, 'colorScale': 'quantize', 'strokeColorField': None, 'strokeColorScale': 'quantile', 'sizeField': None, 'sizeScale': 'linear', 'heightField': None, 'heightScale': 'linear', 'radiusField': None, 'radiusScale': 'linear'}}, {'id': 'n1csad6', 'type': 'geojson', 'config': {'dataId': 'data_1', 'label': 'Population', 'color': [241, 92, 23], 'highlightColor': [252, 242, 26, 255], 'columns': {'geojson': 'geometry'}, 'isVisible': False, 'visConfig': {'opacity': 0.8, 'strokeOpacity': 0.8, 'thickness': 0.5, 'strokeColor': [136, 87, 44], 'colorRange': {'name': 'ColorBrewer RdYlGn-6', 'type': 'diverging', 'category': 'ColorBrewer', 'colors': ['#1a9850', '#91cf60', '#d9ef8b', '#fee08b', '#fc8d59', '#d73027'], 'reversed': True}, 'strokeColorRange': {'name': 'Global Warming', 'type': 'sequential', 'category': 'Uber', 'colors': ['#5A1846', '#900C3F', '#C70039', '#E3611C', '#F1920E', '#FFC300']}, 'radius': 10, 'sizeRange': [0, 10], 'radiusRange': [0, 50], 'heightRange': [0, 500], 'elevationScale': 5, 'enableElevationZoomFactor': True, 'stroked': True, 'filled': True, 'enable3d': False, 'wireframe': False}, 'hidden': False, 'textLabel': [{'field': None, 'color': [255, 255, 255], 'size': 18, 'offset': [0, 0], 'anchor': 'start', 'alignment': 'center'}]}, 'visualChannels': {'colorField': {'name': 'Population_mln', 'type': 'real'}, 'colorScale': 'quantize', 'strokeColorField': None, 'strokeColorScale': 'quantile', 'sizeField': None, 'sizeScale': 'linear', 'heightField': None, 'heightScale': 'linear', 'radiusField': None, 'radiusScale': 'linear'}}, {'id': 'vzla5gt', 'type': 'geojson', 'config': {'dataId': 'data_1', 'label': 'VIH', 'color': [241, 92, 23], 'highlightColor': [252, 242, 26, 255], 'columns': {'geojson': 'geometry'}, 'isVisible': False, 'visConfig': {'opacity': 0.8, 'strokeOpacity': 0.8, 'thickness': 0.5, 'strokeColor': [136, 87, 44], 'colorRange': {'name': 'ColorBrewer YlOrRd-6', 'type': 'sequential', 'category': 'ColorBrewer', 'colors': ['#ffffb2', '#fed976', '#feb24c', '#fd8d3c', '#f03b20', '#bd0026'], 'reversed': False}, 'strokeColorRange': {'name': 'Global Warming', 'type': 'sequential', 'category': 'Uber', 'colors': ['#5A1846', '#900C3F', '#C70039', '#E3611C', '#F1920E', '#FFC300']}, 'radius': 10, 'sizeRange': [0, 10], 'radiusRange': [0, 50], 'heightRange': [0, 500], 'elevationScale': 5, 'enableElevationZoomFactor': True, 'stroked': True, 'filled': True, 'enable3d': False, 'wireframe': False}, 'hidden': False, 'textLabel': [{'field': None, 'color': [255, 255, 255], 'size': 18, 'offset': [0, 0], 'anchor': 'start', 'alignment': 'center'}]}, 'visualChannels': {'colorField': {'name': 'Incidents_HIV', 'type': 'real'}, 'colorScale': 'quantize', 'strokeColorField': None, 'strokeColorScale': 'quantile', 'sizeField': None, 'sizeScale': 'linear', 'heightField': None, 'heightScale': 'linear', 'radiusField': None, 'radiusScale': 'linear'}}, {'id': '3ko6icb', 'type': 'geojson', 'config': {'dataId': 'data_1', 'label': 'Éducation ', 'color': [241, 92, 23], 'highlightColor': [252, 242, 26, 255], 'columns': {'geojson': 'geometry'}, 'isVisible': False, 'visConfig': {'opacity': 0.8, 'strokeOpacity': 0.8, 'thickness': 0.5, 'strokeColor': [136, 87, 44], 'colorRange': {'name': 'ColorBrewer RdYlGn-6', 'type': 'diverging', 'category': 'ColorBrewer', 'colors': ['#d73027', '#fc8d59', '#fee08b', '#d9ef8b', '#91cf60', '#1a9850']}, 'strokeColorRange': {'name': 'Global Warming', 'type': 'sequential', 'category': 'Uber', 'colors': ['#5A1846', '#900C3F', '#C70039', '#E3611C', '#F1920E', '#FFC300']}, 'radius': 10, 'sizeRange': [0, 10], 'radiusRange': [0, 50], 'heightRange': [0, 500], 'elevationScale': 5, 'enableElevationZoomFactor': True, 'stroked': True, 'filled': True, 'enable3d': False, 'wireframe': False}, 'hidden': False, 'textLabel': [{'field': None, 'color': [255, 255, 255], 'size': 18, 'offset': [0, 0], 'anchor': 'start', 'alignment': 'center'}]}, 'visualChannels': {'colorField': {'name': 'Schooling', 'type': 'real'}, 'colorScale': 'quantize', 'strokeColorField': None, 'strokeColorScale': 'quantile', 'sizeField': None, 'sizeScale': 'linear', 'heightField': None, 'heightScale': 'linear', 'radiusField': None, 'radiusScale': 'linear'}}], 'interactionConfig': {'tooltip': {'fieldsToShow': {'data_1': [{'name': 'name', 'format': None}, {'name': 'Population_mln', 'format': None}, {'name': 'GDP_per_capita', 'format': None}, {'name': 'Life_expectancy', 'format': None}, {'name': 'Adult_mortality', 'format': None}, {'name': 'Infant_deaths', 'format': None}, {'name': 'Hepatitis_B', 'format': None}, {'name': 'Measles', 'format': None}, {'name': 'BMI', 'format': None}, {'name': 'Incidents_HIV', 'format': None}]}, 'compareMode': False, 'compareType': 'absolute', 'enabled': True}, 'brush': {'size': 0.5, 'enabled': False}, 'geocoder': {'enabled': False}, 'coordinate': {'enabled': False}}, 'layerBlending': 'normal', 'splitMaps': [], 'animationConfig': {'currentTime': None, 'speed': 1}}, 'mapState': {'bearing': 0, 'dragRotate': False, 'latitude': 42.19768670603559, 'longitude': 27.957605064653514, 'pitch': 0, 'zoom': 0.7251366578387842, 'isSplit': False}, 'mapStyle': {'styleType': 'dark', 'topLayerGroups': {}, 'visibleLayerGroups': {'label': True, 'road': True, 'border': False, 'building': True, 'water': True, 'land': True, '3d building': False}, 'threeDBuildingColor': [9.665468314072013, 17.18305478057247, 31.1442867897876], 'mapStyles': {}}}}\n",
    "map_1 = KeplerGl(height=600, config = config)\n",
    "map_1.add_data(data=geo_df, name=\"data_1\")\n",
    "map_1"
   ]
  },
  {
   "cell_type": "code",
   "execution_count": null,
   "id": "e4daccaf",
   "metadata": {},
   "outputs": [],
   "source": [
    "# Récupérer la configuration actuelle\n",
    "config = map_1.config\n",
    "\n",
    "# Sauvegarder la configuration dans un fichier JSON\n",
    "with open('kepler_config.json', 'w') as f:\n",
    "    json.dump(config, f)"
   ]
  },
  {
   "cell_type": "code",
   "execution_count": 5,
   "id": "1dca01aa",
   "metadata": {},
   "outputs": [],
   "source": [
    "# Récupérer la configuration actuelle\n",
    "config = map_1.config\n",
    "\n",
    "with open('kepler_config.py', 'w') as f:\n",
    "   f.write('config = {}'.format(config))"
   ]
  },
  {
   "cell_type": "code",
   "execution_count": null,
   "id": "62f19227",
   "metadata": {},
   "outputs": [],
   "source": [
    "print(map_1.config)"
   ]
  }
 ],
 "metadata": {
  "kernelspec": {
   "display_name": "Python 3 (ipykernel)",
   "language": "python",
   "name": "python3"
  },
  "language_info": {
   "codemirror_mode": {
    "name": "ipython",
    "version": 3
   },
   "file_extension": ".py",
   "mimetype": "text/x-python",
   "name": "python",
   "nbconvert_exporter": "python",
   "pygments_lexer": "ipython3",
   "version": "3.9.13"
  }
 },
 "nbformat": 4,
 "nbformat_minor": 5
}
